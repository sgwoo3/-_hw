{
 "cells": [
  {
   "cell_type": "code",
   "execution_count": 1,
   "metadata": {},
   "outputs": [
    {
     "name": "stdout",
     "output_type": "stream",
     "text": [
      "Requirement already satisfied: pymc3 in /opt/anaconda3/lib/python3.7/site-packages (3.9.3)\n",
      "Requirement already satisfied: patsy>=0.5.1 in /opt/anaconda3/lib/python3.7/site-packages (from pymc3) (0.5.1)\n",
      "Requirement already satisfied: theano>=1.0.5 in /opt/anaconda3/lib/python3.7/site-packages (from pymc3) (1.0.5)\n",
      "Requirement already satisfied: numpy>=1.13.0 in /opt/anaconda3/lib/python3.7/site-packages (from pymc3) (1.17.2)\n",
      "Requirement already satisfied: typing-extensions>=3.7.4 in /opt/anaconda3/lib/python3.7/site-packages (from pymc3) (3.7.4.3)\n",
      "Requirement already satisfied: fastprogress>=0.2.0 in /opt/anaconda3/lib/python3.7/site-packages (from pymc3) (1.0.0)\n",
      "Requirement already satisfied: h5py>=2.7.0 in /opt/anaconda3/lib/python3.7/site-packages (from pymc3) (2.9.0)\n",
      "Requirement already satisfied: pandas>=0.18.0 in /opt/anaconda3/lib/python3.7/site-packages (from pymc3) (1.1.2)\n",
      "Requirement already satisfied: arviz>=0.9.0 in /opt/anaconda3/lib/python3.7/site-packages (from pymc3) (0.9.0)\n",
      "Requirement already satisfied: scipy>=0.18.1 in /opt/anaconda3/lib/python3.7/site-packages (from pymc3) (1.5.2)\n",
      "Requirement already satisfied: six in /opt/anaconda3/lib/python3.7/site-packages (from patsy>=0.5.1->pymc3) (1.12.0)\n",
      "Requirement already satisfied: python-dateutil>=2.7.3 in /opt/anaconda3/lib/python3.7/site-packages (from pandas>=0.18.0->pymc3) (2.8.0)\n",
      "Requirement already satisfied: pytz>=2017.2 in /opt/anaconda3/lib/python3.7/site-packages (from pandas>=0.18.0->pymc3) (2019.3)\n",
      "Requirement already satisfied: matplotlib>=3.0 in /opt/anaconda3/lib/python3.7/site-packages (from arviz>=0.9.0->pymc3) (3.3.1)\n",
      "Requirement already satisfied: netcdf4 in /opt/anaconda3/lib/python3.7/site-packages (from arviz>=0.9.0->pymc3) (1.5.4)\n",
      "Requirement already satisfied: packaging in /opt/anaconda3/lib/python3.7/site-packages (from arviz>=0.9.0->pymc3) (19.2)\n",
      "Requirement already satisfied: xarray>=0.11 in /opt/anaconda3/lib/python3.7/site-packages (from arviz>=0.9.0->pymc3) (0.16.0)\n",
      "Requirement already satisfied: pillow>=6.2.0 in /opt/anaconda3/lib/python3.7/site-packages (from matplotlib>=3.0->arviz>=0.9.0->pymc3) (6.2.0)\n",
      "Requirement already satisfied: kiwisolver>=1.0.1 in /opt/anaconda3/lib/python3.7/site-packages (from matplotlib>=3.0->arviz>=0.9.0->pymc3) (1.1.0)\n",
      "Requirement already satisfied: certifi>=2020.06.20 in /opt/anaconda3/lib/python3.7/site-packages (from matplotlib>=3.0->arviz>=0.9.0->pymc3) (2020.6.20)\n",
      "Requirement already satisfied: cycler>=0.10 in /opt/anaconda3/lib/python3.7/site-packages (from matplotlib>=3.0->arviz>=0.9.0->pymc3) (0.10.0)\n",
      "Requirement already satisfied: pyparsing!=2.0.4,!=2.1.2,!=2.1.6,>=2.0.3 in /opt/anaconda3/lib/python3.7/site-packages (from matplotlib>=3.0->arviz>=0.9.0->pymc3) (2.4.2)\n",
      "Requirement already satisfied: cftime in /opt/anaconda3/lib/python3.7/site-packages (from netcdf4->arviz>=0.9.0->pymc3) (1.2.1)\n",
      "Requirement already satisfied: setuptools>=41.2 in /opt/anaconda3/lib/python3.7/site-packages (from xarray>=0.11->arviz>=0.9.0->pymc3) (41.4.0)\n",
      "Note: you may need to restart the kernel to use updated packages.\n"
     ]
    }
   ],
   "source": [
    "pip install pymc3"
   ]
  },
  {
   "cell_type": "code",
   "execution_count": 2,
   "metadata": {},
   "outputs": [],
   "source": [
    "# Pandas and numpy for data manipulation\n",
    "import pandas as pd\n",
    "import numpy as np\n",
    "\n",
    "# Matplotlib and seaborn for visualization\n",
    "import matplotlib.pyplot as plt\n",
    "%matplotlib inline \n",
    "\n",
    "import seaborn as sns\n",
    "\n",
    "# Linear Regression to verify implementation\n",
    "from sklearn.linear_model import LinearRegression\n",
    "\n",
    "# Scipy for statistics\n",
    "import scipy\n",
    "\n",
    "# PyMC3 for Bayesian Inference\n",
    "import pymc3 as pm"
   ]
  },
  {
   "cell_type": "code",
   "execution_count": 3,
   "metadata": {},
   "outputs": [],
   "source": [
    "#train set\n",
    "df = pd.read_csv('/Users/healthcarelab/Downloads/csv_file/x_train.csv') #데이터 불러오고"
   ]
  },
  {
   "cell_type": "code",
   "execution_count": 4,
   "metadata": {},
   "outputs": [
    {
     "data": {
      "text/html": [
       "<div>\n",
       "<style scoped>\n",
       "    .dataframe tbody tr th:only-of-type {\n",
       "        vertical-align: middle;\n",
       "    }\n",
       "\n",
       "    .dataframe tbody tr th {\n",
       "        vertical-align: top;\n",
       "    }\n",
       "\n",
       "    .dataframe thead th {\n",
       "        text-align: right;\n",
       "    }\n",
       "</style>\n",
       "<table border=\"1\" class=\"dataframe\">\n",
       "  <thead>\n",
       "    <tr style=\"text-align: right;\">\n",
       "      <th></th>\n",
       "      <th>1</th>\n",
       "      <th>2</th>\n",
       "      <th>3</th>\n",
       "    </tr>\n",
       "  </thead>\n",
       "  <tbody>\n",
       "    <tr>\n",
       "      <th>0</th>\n",
       "      <td>-64.938583</td>\n",
       "      <td>202.291412</td>\n",
       "      <td>-14.451048</td>\n",
       "    </tr>\n",
       "    <tr>\n",
       "      <th>1</th>\n",
       "      <td>-69.058823</td>\n",
       "      <td>197.591904</td>\n",
       "      <td>-12.799682</td>\n",
       "    </tr>\n",
       "    <tr>\n",
       "      <th>2</th>\n",
       "      <td>-72.430664</td>\n",
       "      <td>194.533188</td>\n",
       "      <td>-11.101911</td>\n",
       "    </tr>\n",
       "    <tr>\n",
       "      <th>3</th>\n",
       "      <td>-75.883049</td>\n",
       "      <td>191.134109</td>\n",
       "      <td>-9.336396</td>\n",
       "    </tr>\n",
       "    <tr>\n",
       "      <th>4</th>\n",
       "      <td>-79.375542</td>\n",
       "      <td>187.278091</td>\n",
       "      <td>-7.509362</td>\n",
       "    </tr>\n",
       "    <tr>\n",
       "      <th>5</th>\n",
       "      <td>-1.704678</td>\n",
       "      <td>104.123497</td>\n",
       "      <td>-31.008192</td>\n",
       "    </tr>\n",
       "    <tr>\n",
       "      <th>6</th>\n",
       "      <td>2.986092</td>\n",
       "      <td>104.576439</td>\n",
       "      <td>-33.099922</td>\n",
       "    </tr>\n",
       "    <tr>\n",
       "      <th>7</th>\n",
       "      <td>7.369678</td>\n",
       "      <td>105.354294</td>\n",
       "      <td>-35.226910</td>\n",
       "    </tr>\n",
       "    <tr>\n",
       "      <th>8</th>\n",
       "      <td>11.221000</td>\n",
       "      <td>107.158379</td>\n",
       "      <td>-37.117558</td>\n",
       "    </tr>\n",
       "    <tr>\n",
       "      <th>9</th>\n",
       "      <td>15.004879</td>\n",
       "      <td>110.447258</td>\n",
       "      <td>-38.664536</td>\n",
       "    </tr>\n",
       "  </tbody>\n",
       "</table>\n",
       "</div>"
      ],
      "text/plain": [
       "           1           2          3\n",
       "0 -64.938583  202.291412 -14.451048\n",
       "1 -69.058823  197.591904 -12.799682\n",
       "2 -72.430664  194.533188 -11.101911\n",
       "3 -75.883049  191.134109  -9.336396\n",
       "4 -79.375542  187.278091  -7.509362\n",
       "5  -1.704678  104.123497 -31.008192\n",
       "6   2.986092  104.576439 -33.099922\n",
       "7   7.369678  105.354294 -35.226910\n",
       "8  11.221000  107.158379 -37.117558\n",
       "9  15.004879  110.447258 -38.664536"
      ]
     },
     "execution_count": 4,
     "metadata": {},
     "output_type": "execute_result"
    }
   ],
   "source": [
    "df = df.drop(df.columns[0], axis=1)\n",
    "df.head(10)"
   ]
  },
  {
   "cell_type": "code",
   "execution_count": 5,
   "metadata": {},
   "outputs": [
    {
     "name": "stdout",
     "output_type": "stream",
     "text": [
      "(6000, 1)\n",
      "(6000, 2)\n"
     ]
    }
   ],
   "source": [
    "# x, y 나누기\n",
    "train_x = df[['1']]\n",
    "train_y = df.drop('1', axis=1)\n",
    "print(train_x.shape)\n",
    "print(train_y.shape)"
   ]
  },
  {
   "cell_type": "code",
   "execution_count": 6,
   "metadata": {},
   "outputs": [
    {
     "name": "stdout",
     "output_type": "stream",
     "text": [
      "Intercept: [258.37423027 -42.92764249]\n",
      "coefficients:  [[-0.05178006]\n",
      " [-0.23682096]]\n"
     ]
    }
   ],
   "source": [
    "# y = Ax +b\n",
    "from sklearn.linear_model import LinearRegression\n",
    "\n",
    "model = LinearRegression()\n",
    "train_model = model.fit(train_x, train_y)\n",
    "\n",
    "print('Intercept:', train_model.intercept_)\n",
    "print('coefficients: ', train_model.coef_)"
   ]
  },
  {
   "cell_type": "code",
   "execution_count": 7,
   "metadata": {},
   "outputs": [
    {
     "name": "stdout",
     "output_type": "stream",
     "text": [
      "Intercept: [[258.37423027]\n",
      " [-42.92764249]]\n",
      "coefficients:  [[-0.05178006]\n",
      " [-0.23682096]]\n"
     ]
    }
   ],
   "source": [
    "train_model_intercept = np.array([[258.37423027],[-42.92764249]])\n",
    "\n",
    "print('Intercept:', train_model_intercept)\n",
    "print('coefficients: ', train_model.coef_)"
   ]
  },
  {
   "cell_type": "code",
   "execution_count": 9,
   "metadata": {},
   "outputs": [],
   "source": [
    "A = train_model.coef_\n",
    "b = train_model_intercept\n"
   ]
  },
  {
   "cell_type": "code",
   "execution_count": 13,
   "metadata": {},
   "outputs": [
    {
     "data": {
      "text/plain": [
       "1    87.104682\n",
       "dtype: float64"
      ]
     },
     "execution_count": 13,
     "metadata": {},
     "output_type": "execute_result"
    }
   ],
   "source": [
    "train_x.std()"
   ]
  },
  {
   "cell_type": "code",
   "execution_count": 16,
   "metadata": {},
   "outputs": [
    {
     "data": {
      "text/plain": [
       "(6000, 1)"
      ]
     },
     "execution_count": 16,
     "metadata": {},
     "output_type": "execute_result"
    }
   ],
   "source": [
    "#2. prior p(x) >> mean, precision.inv\n",
    "\n",
    "import scipy as sp\n",
    "import scipy.stats\n",
    "mu = train_x.mean()\n",
    "std = train_x.std()\n",
    "rv = sp.stats.norm(mu, std)\n",
    "p_x = rv.pdf(train_x)\n",
    "p_x.shape # p(x)"
   ]
  },
  {
   "cell_type": "code",
   "execution_count": 20,
   "metadata": {},
   "outputs": [
    {
     "name": "stdout",
     "output_type": "stream",
     "text": [
      "0.0031142759979477094\n",
      "0.0012107515727412651\n"
     ]
    }
   ],
   "source": [
    "print(np.mean(p_x))\n",
    "print(np.std(p_x))"
   ]
  },
  {
   "cell_type": "code",
   "execution_count": 21,
   "metadata": {},
   "outputs": [
    {
     "name": "stdout",
     "output_type": "stream",
     "text": [
      "825.9332653484793\n"
     ]
    }
   ],
   "source": [
    "precision = 1/(np.std(p_x))\n",
    "print(precision)"
   ]
  },
  {
   "cell_type": "code",
   "execution_count": 22,
   "metadata": {},
   "outputs": [
    {
     "data": {
      "text/plain": [
       "(6000, 2)"
      ]
     },
     "execution_count": 22,
     "metadata": {},
     "output_type": "execute_result"
    }
   ],
   "source": [
    "# P(y) 구하기\n",
    "mu = train_y.mean()\n",
    "std = train_y.std()\n",
    "rv = sp.stats.norm(mu, std)\n",
    "p_y = rv.pdf(train_y)\n",
    "p_y.shape"
   ]
  },
  {
   "cell_type": "code",
   "execution_count": 24,
   "metadata": {},
   "outputs": [
    {
     "name": "stdout",
     "output_type": "stream",
     "text": [
      "0.004548599353927789\n",
      "0.0026149781977377953\n"
     ]
    }
   ],
   "source": [
    "print(np.mean(p_y))\n",
    "print(np.std(p_y))"
   ]
  },
  {
   "cell_type": "code",
   "execution_count": 39,
   "metadata": {},
   "outputs": [
    {
     "data": {
      "text/plain": [
       "(2, 2)"
      ]
     },
     "execution_count": 39,
     "metadata": {},
     "output_type": "execute_result"
    }
   ],
   "source": [
    "cov_y = train_y.cov()\n",
    "cov_y.shape"
   ]
  },
  {
   "cell_type": "code",
   "execution_count": 40,
   "metadata": {},
   "outputs": [],
   "source": [
    "#P(y|x)의 precision matrix\n",
    "lamda = precision\n",
    "_inverse = np.linalg.inv(cov_y) #precision matrix L = cov_matrix의 inverse\n",
    "L = _inverse\n"
   ]
  },
  {
   "cell_type": "code",
   "execution_count": 43,
   "metadata": {},
   "outputs": [
    {
     "name": "stdout",
     "output_type": "stream",
     "text": [
      "[[825.93326564 825.9332662 ]\n",
      " [825.9332662  825.93329612]]\n",
      "[[5.66552512e-06 1.64441624e-05]\n",
      " [3.59545737e-06 1.29947768e-04]]\n",
      "[[5.66552512e-06 3.59545737e-06]\n",
      " [1.64441624e-05 1.29947768e-04]]\n",
      "[[1.09415197e-04 6.94371077e-05]\n",
      " [6.94371077e-05 5.48717349e-04]]\n"
     ]
    }
   ],
   "source": [
    "print(lamda+A.T*L*A)\n",
    "print(-A.T * L)\n",
    "print(-L*A)\n",
    "print(L)"
   ]
  },
  {
   "cell_type": "code",
   "execution_count": 44,
   "metadata": {},
   "outputs": [],
   "source": [
    "aa = lamda+A.T*L*A\n",
    "ab = -A.T*L\n",
    "ba = -L*A\n",
    "bb = L"
   ]
  },
  {
   "cell_type": "code",
   "execution_count": 49,
   "metadata": {},
   "outputs": [
    {
     "name": "stdout",
     "output_type": "stream",
     "text": [
      "[[[[8.25933266e+02 8.25933266e+02]\n",
      "   [8.25933266e+02 8.25933296e+02]]\n",
      "\n",
      "  [[5.66552512e-06 1.64441624e-05]\n",
      "   [3.59545737e-06 1.29947768e-04]]]\n",
      "\n",
      "\n",
      " [[[5.66552512e-06 3.59545737e-06]\n",
      "   [1.64441624e-05 1.29947768e-04]]\n",
      "\n",
      "  [[1.09415197e-04 6.94371077e-05]\n",
      "   [6.94371077e-05 5.48717349e-04]]]]\n"
     ]
    }
   ],
   "source": [
    "R = np.array([[aa, ab], [ba, bb]]) # precision matrix of P(y|x)\n",
    "print(R)"
   ]
  },
  {
   "cell_type": "code",
   "execution_count": 55,
   "metadata": {},
   "outputs": [
    {
     "data": {
      "text/plain": [
       "array([[ 34054.42904678, -34054.42781302],\n",
       "       [-34054.42781302,  34054.42779   ]])"
      ]
     },
     "execution_count": 55,
     "metadata": {},
     "output_type": "execute_result"
    }
   ],
   "source": [
    "# covariance matrix of posterior P(x|y)\n",
    "temp = lamda + A.T*L*A\n",
    "_inverse = np.linalg.inv(temp)\n",
    "cov_matrix_xy = _inverse\n",
    "cov_matrix_xy"
   ]
  },
  {
   "cell_type": "code",
   "execution_count": 63,
   "metadata": {},
   "outputs": [
    {
     "name": "stdout",
     "output_type": "stream",
     "text": [
      "test_coefficients:  [[-0.33994115]\n",
      " [-0.28090344]]\n",
      "test_Intercept: [[258.09661399]\n",
      " [-44.43320618]]\n"
     ]
    }
   ],
   "source": [
    "# test data\n",
    "data = pd.read_csv('/Users/healthcarelab/Downloads/csv_file/x_test.csv') #데이터 불러오고\n",
    "data = data.drop(data.columns[0], axis=1)\n",
    "test_x = data[['1']] #Z\n",
    "test_y = data.drop('1', axis=1)\n",
    "\n",
    "# y = Ax +b\n",
    "from sklearn.linear_model import LinearRegression\n",
    "\n",
    "model = LinearRegression()\n",
    "test_model = model.fit(test_x, test_y)\n",
    "\n",
    "print('test_coefficients: ', test_model.coef_)\n",
    "\n",
    "test_model_intercept = np.array([[258.09661399],[-44.43320618]])\n",
    "\n",
    "print('test_Intercept:', test_model_intercept)\n",
    "\n",
    "test_A = train_model.coef_\n",
    "test_b = train_model_intercept"
   ]
  },
  {
   "cell_type": "code",
   "execution_count": 64,
   "metadata": {},
   "outputs": [
    {
     "data": {
      "text/plain": [
       "array([[ 5157.86640155, -5157.86529833],\n",
       "       [-5157.86529833,  5157.86556868]])"
      ]
     },
     "execution_count": 64,
     "metadata": {},
     "output_type": "execute_result"
    }
   ],
   "source": [
    "import scipy as sp\n",
    "import scipy.stats\n",
    "t_mu = test_x.mean()\n",
    "t_std = test_x.std()\n",
    "rv = sp.stats.norm(t_mu, t_std)\n",
    "t_p_x = rv.pdf(test_x)\n",
    "#p_x.shape # p(x)\n",
    "t_precision = 1/(np.std(t_p_x))\n",
    "\n",
    "# P(y) 구하기\n",
    "d_mu = test_y.mean()\n",
    "d_std = test_y.std()\n",
    "rv = sp.stats.norm(d_mu, d_std)\n",
    "d_p_y = rv.pdf(test_y)\n",
    "#p_y.shape\n",
    "d_cov_y = test_y.cov()\n",
    "\n",
    "#P(y|x)의 precision matrix\n",
    "test_lamda = t_precision\n",
    "test_inverse = np.linalg.inv(d_cov_y) #precision matrix L = cov_matrix의 inverse\n",
    "test_L = test_inverse\n",
    "\n",
    "t_aa = test_lamda+test_A.T*test_L*test_A\n",
    "t_ab = -test_A.T*test_L\n",
    "t_ba = -test_L*test_A\n",
    "t_bb = test_L\n",
    "\n",
    "test_R = np.array([[t_aa, t_ab], [t_ba, t_bb]]) # precision matrix of P(y|x)\n",
    "\n",
    "# covariance matrix of posterior P(x|y)\n",
    "temp_t = test_lamda + test_A.T*test_L*test_A\n",
    "t_inverse = np.linalg.inv(temp_t)\n",
    "t_cov_matrix_xy = t_inverse\n",
    "t_cov_matrix_xy"
   ]
  },
  {
   "cell_type": "code",
   "execution_count": null,
   "metadata": {},
   "outputs": [],
   "source": []
  },
  {
   "cell_type": "code",
   "execution_count": 60,
   "metadata": {},
   "outputs": [
    {
     "name": "stdout",
     "output_type": "stream",
     "text": [
      "coefficients:  [[-0.90676428]\n",
      " [-0.63462032]]\n",
      "Intercept: [[-75.86260817]\n",
      " [240.63659842]]\n"
     ]
    }
   ],
   "source": [
    "## change the hidden z, observation x,y\n",
    "#train set\n",
    "df = pd.read_csv('/Users/healthcarelab/Downloads/csv_file/x_train.csv') #데이터 불러오고\n",
    "df = df.drop(df.columns[0], axis=1)\n",
    "train_x = df[['3']] #Z\n",
    "train_y = df.drop('3', axis=1)#XandY\n",
    "\n",
    "# y = Ax +b\n",
    "from sklearn.linear_model import LinearRegression\n",
    "\n",
    "model = LinearRegression()\n",
    "train_model = model.fit(train_x, train_y)\n",
    "\n",
    "print('coefficients: ', train_model.coef_)\n",
    "\n",
    "train_model_intercept = np.array([[-75.86260817],[240.63659842]])\n",
    "\n",
    "print('Intercept:', train_model_intercept)\n",
    "\n",
    "A = train_model.coef_\n",
    "b = train_model_intercept"
   ]
  },
  {
   "cell_type": "code",
   "execution_count": 61,
   "metadata": {},
   "outputs": [
    {
     "data": {
      "text/plain": [
       "array([[ 6983.58996456, -6983.58930668],\n",
       "       [-6983.58930668,  6983.59115382]])"
      ]
     },
     "execution_count": 61,
     "metadata": {},
     "output_type": "execute_result"
    }
   ],
   "source": [
    "import scipy as sp\n",
    "import scipy.stats\n",
    "mu = train_x.mean()\n",
    "std = train_x.std()\n",
    "rv = sp.stats.norm(mu, std)\n",
    "p_x = rv.pdf(train_x)\n",
    "#p_x.shape # p(x)\n",
    "precision = 1/(np.std(p_x))\n",
    "\n",
    "# P(y) 구하기\n",
    "mu = train_y.mean()\n",
    "std = train_y.std()\n",
    "rv = sp.stats.norm(mu, std)\n",
    "p_y = rv.pdf(train_y)\n",
    "#p_y.shape\n",
    "cov_y = train_y.cov()\n",
    "\n",
    "#P(y|x)의 precision matrix\n",
    "lamda = precision\n",
    "_inverse = np.linalg.inv(cov_y) #precision matrix L = cov_matrix의 inverse\n",
    "L = _inverse\n",
    "\n",
    "aa = lamda+A.T*L*A\n",
    "ab = -A.T*L\n",
    "ba = -L*A\n",
    "bb = L\n",
    "\n",
    "R = np.array([[aa, ab], [ba, bb]]) # precision matrix of P(y|x)\n",
    "\n",
    "# covariance matrix of posterior P(x|y)\n",
    "temp = lamda + A.T*L*A\n",
    "_inverse = np.linalg.inv(temp)\n",
    "cov_matrix_xy = _inverse\n",
    "cov_matrix_xy"
   ]
  },
  {
   "cell_type": "code",
   "execution_count": null,
   "metadata": {},
   "outputs": [],
   "source": []
  }
 ],
 "metadata": {
  "kernelspec": {
   "display_name": "Python 3",
   "language": "python",
   "name": "python3"
  },
  "language_info": {
   "codemirror_mode": {
    "name": "ipython",
    "version": 3
   },
   "file_extension": ".py",
   "mimetype": "text/x-python",
   "name": "python",
   "nbconvert_exporter": "python",
   "pygments_lexer": "ipython3",
   "version": "3.7.4"
  }
 },
 "nbformat": 4,
 "nbformat_minor": 2
}
